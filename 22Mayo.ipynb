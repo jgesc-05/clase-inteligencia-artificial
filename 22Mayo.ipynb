{
  "nbformat": 4,
  "nbformat_minor": 0,
  "metadata": {
    "colab": {
      "provenance": [],
      "authorship_tag": "ABX9TyO1prS0bzDBu4NzVzBSObZ9",
      "include_colab_link": true
    },
    "kernelspec": {
      "name": "python3",
      "display_name": "Python 3"
    },
    "language_info": {
      "name": "python"
    }
  },
  "cells": [
    {
      "cell_type": "markdown",
      "metadata": {
        "id": "view-in-github",
        "colab_type": "text"
      },
      "source": [
        "<a href=\"https://colab.research.google.com/github/jgesc-05/clase-inteligencia-artificial/blob/main/22Mayo.ipynb\" target=\"_parent\"><img src=\"https://colab.research.google.com/assets/colab-badge.svg\" alt=\"Open In Colab\"/></a>"
      ]
    },
    {
      "cell_type": "markdown",
      "source": [
        "#PCA\n",
        "\n",
        "* Se busca el mejor numero de columnas, obligatorio en DBSCAN\n",
        "\n",
        "* Optimización de características para reducir la dimensionalidad y oprimizar el rendimiento del modelo.\n",
        "\n"
      ],
      "metadata": {
        "id": "e4pYQPW37ouL"
      }
    },
    {
      "cell_type": "markdown",
      "source": [
        "#DBSCAN\n",
        "\n",
        "* min samples: numero minimo de muestras que cabe en un cluster\n",
        "\n",
        "* Cual es el radio de la frontera del grupo: con eso, crea los grupos; define la cantidad de clusters automáticamente.\n",
        "\n",
        "* Los puntos de frontera se encuentran dentro del radio del vecindario\n",
        "\n",
        "* El ruido no pertenece a ningún cluster definido, sino que pertenece al cluster -1, no están agrupados\n",
        "\n",
        "* Quedan metidos en una formula lineal los features, reduciendo a las características deseadas.\n",
        "\n",
        "* PCA: 3 componentes grandes que contienen toda la info de la vista minable.\n",
        "\n",
        "* El silhouette sirve solo de manera representativa acá, toca mirar manualmente"
      ],
      "metadata": {
        "id": "UXiqm7ja9R9J"
      }
    }
  ]
}