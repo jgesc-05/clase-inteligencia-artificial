{
  "nbformat": 4,
  "nbformat_minor": 0,
  "metadata": {
    "colab": {
      "provenance": [],
      "authorship_tag": "ABX9TyM62bR2LIvuBTQsce3how/t",
      "include_colab_link": true
    },
    "kernelspec": {
      "name": "python3",
      "display_name": "Python 3"
    },
    "language_info": {
      "name": "python"
    }
  },
  "cells": [
    {
      "cell_type": "markdown",
      "metadata": {
        "id": "view-in-github",
        "colab_type": "text"
      },
      "source": [
        "<a href=\"https://colab.research.google.com/github/jgesc-05/clase-inteligencia-artificial/blob/main/Clase_13_03_2025.ipynb\" target=\"_parent\"><img src=\"https://colab.research.google.com/assets/colab-badge.svg\" alt=\"Open In Colab\"/></a>"
      ]
    },
    {
      "cell_type": "markdown",
      "source": [
        "#Pasos de preprocesamiento vs ML:\n",
        "\n",
        "* Preprocesamiento: Importar, declarar, entrenar y transformar, persistencia.\n",
        "\n",
        "* ML: Importar, declarar, entrenar, predecir y persistir.\n",
        "\n",
        "* Antes de persistencia, se tienen que comparar los datos con la predicción, para saber qué tan bueno es (en mi ejemplo, comparar el aqi calculado con el aqi predecido).\n",
        "\n",
        "* Cuando hay datos continuos, el mejor Naive Bayes es el gaussiano.\n",
        "\n",
        "* Quedamos hasta la matriz de confusión."
      ],
      "metadata": {
        "id": "Ha9i4sZ_Zwiv"
      }
    }
  ]
}